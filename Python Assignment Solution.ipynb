{
 "cells": [
  {
   "cell_type": "code",
   "execution_count": 207,
   "id": "d34151f2",
   "metadata": {},
   "outputs": [],
   "source": [
    "import pandas as pd\n",
    "import re\n",
    "\n",
    "# regulare expression\n",
    "float_exp = re.compile(r'[0-9.]+')\n",
    "int_exp = re.compile(r'[0-9]+')\n",
    "str_exp = re.compile(r'[a-zA-Z_.+-]')\n",
    "\n",
    "#Data cleaning\n",
    "df = pd.read_csv('emp.txt', skipinitialspace = True, dtype=str)\n",
    "df = (df.replace('\\t','', regex=True).replace(r'^\\s*$', \"0\", regex=True))\n",
    "df.columns = [c.strip().lower().replace(r'^\\s*$', '') for c in df.columns]\n",
    "\n",
    "#removing missing data raws\n",
    "error_df = df[df.isna().any(axis=1)]\n",
    "error_df.insert(0, 'error_message', \"The number of columns in the record doesn't match file header spec.\")\n",
    "df = df.dropna()\n",
    "\n",
    "#validating the datatype\n",
    "for index, row in list(df.iterrows())[3:]:\n",
    "    key_list =  list()\n",
    "    if not str_exp.search(row['name']):\n",
    "        key_list.append('name')\n",
    "    if not int_exp.search(row['age']):\n",
    "        key_list.append('age')\n",
    "    if not float_exp.search(row['salary']):\n",
    "        key_list.append('salary')\n",
    "    if not int_exp.search(row['benefits']):\n",
    "        key_list.append('benefits')\n",
    "    if not str_exp.search(row['department']):\n",
    "        key_list.append('department')\n",
    "    if len(key_list)>0:\n",
    "        error_dict = {\"name\":row['name'],\"age\":row['age'], \"salary\": row['salary'], \"benefits\":row['benefits'], \"department\":row['department'] }\n",
    "        error_dict[\"error_message\"] = \"The datatypes of columns:[\"+\",\".join(key_list)+\"] doesn't match the datatypes specified in the first test record.\"\n",
    "        data = pd.DataFrame(error_dict,  index=[0])\n",
    "        error_df = error_df.append(data)\n",
    "        df.drop(index, inplace = True )\n",
    "        df.drop(0, inplace = True )\n",
    "\n",
    "convert_dict = {'name': str,\n",
    "                'age': int,\n",
    "                'salary': float,\n",
    "                'benefits': int,\n",
    "                'department': str\n",
    "               }\n",
    "\n",
    "#data type assign on clean data\n",
    "df = df.astype(convert_dict)\n",
    "df['salary']=df['salary'].apply(lambda x:round(x,2))\n",
    "\n",
    "# writing data to files\n",
    "df.to_csv('output.txt', index=False)\n",
    "error_df.to_csv('quarantine.txt', index=False)"
   ]
  },
  {
   "cell_type": "code",
   "execution_count": null,
   "id": "4e533a14",
   "metadata": {},
   "outputs": [],
   "source": []
  }
 ],
 "metadata": {
  "kernelspec": {
   "display_name": "Python 3",
   "language": "python",
   "name": "python3"
  },
  "language_info": {
   "codemirror_mode": {
    "name": "ipython",
    "version": 3
   },
   "file_extension": ".py",
   "mimetype": "text/x-python",
   "name": "python",
   "nbconvert_exporter": "python",
   "pygments_lexer": "ipython3",
   "version": "3.9.2"
  }
 },
 "nbformat": 4,
 "nbformat_minor": 5
}
